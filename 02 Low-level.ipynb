{
 "cells": [
  {
   "cell_type": "code",
   "execution_count": 45,
   "metadata": {},
   "outputs": [],
   "source": [
    "import tensorflow as tf\n",
    "import numpy as np\n",
    "import matplotlib.pyplot as plt "
   ]
  },
  {
   "cell_type": "code",
   "execution_count": 46,
   "metadata": {},
   "outputs": [],
   "source": [
    "#Build the model\n",
    "# https://github.com/sol0invictus/Blog_stuff/blob/master/custom%20loss/low_level_tf.py\n",
    "class model:\n",
    "\n",
    "    def __init__(self):\n",
    "        xavier=tf.keras.initializers.GlorotUniform()\n",
    "        self.l1=tf.keras.layers.Dense(64, kernel_initializer=xavier, activation=tf.nn.sigmoid, input_shape=[1])\n",
    "        self.l2=tf.keras.layers.Dense(64, kernel_initializer=xavier, activation=tf.nn.sigmoid)\n",
    "        self.out=tf.keras.layers.Dense(1, kernel_initializer=xavier)\n",
    "        self.train_op = tf.keras.optimizers.Adam(learning_rate=0.1)\n",
    "        print(self.l1.variables)\n",
    "    \n",
    "    # Running the model\n",
    "    def run(self,X):\n",
    "        l1=self.l1(X)\n",
    "        l2=self.l2(l1)\n",
    "        out=self.out(l2)\n",
    "        return out\n",
    "    \n",
    "    #Custom loss fucntion\n",
    "    def get_loss(self,X,Y):\n",
    "        out = self.run(X)\n",
    "        return tf.math.square(out-Y)\n",
    "    \n",
    "    # get gradients\n",
    "    def get_grad(self,X,Y):\n",
    "        with tf.GradientTape() as tape:\n",
    "            tape.watch(self.l1.variables)\n",
    "            tape.watch(self.l2.variables)\n",
    "            tape.watch(self.out.variables)\n",
    "            L = self.get_loss(X,Y)\n",
    "            g = tape.gradient(L, [self.l1.variables[0],self.l1.variables[1],self.l2.variables[0],self.l2.variables[1],self.out.variables[0],self.out.variables[1]])\n",
    "        return g\n",
    "    \n",
    "    # perform gradient descent\n",
    "    def network_learn(self,X,Y):\n",
    "        g = self.get_grad(X,Y)\n",
    "        # print(self.var)\n",
    "        self.train_op.apply_gradients(zip(g, [self.l1.variables[0],self.l1.variables[1],self.l2.variables[0],self.l2.variables[1],self.out.variables[0],self.out.variables[1]]))\n"
   ]
  },
  {
   "cell_type": "code",
   "execution_count": 47,
   "metadata": {},
   "outputs": [
    {
     "name": "stdout",
     "output_type": "stream",
     "text": [
      "[]\n"
     ]
    }
   ],
   "source": [
    "#Custom training\n",
    "xs=np.linspace(-15,15,200,dtype=np.float32).reshape((-1,1))\n",
    "ys = np.sin(2*xs)/xs\n",
    "m=model()"
   ]
  },
  {
   "cell_type": "code",
   "execution_count": 57,
   "metadata": {},
   "outputs": [],
   "source": [
    "for i in range(1000):\n",
    "    m.network_learn(xs,ys)"
   ]
  },
  {
   "cell_type": "code",
   "execution_count": 58,
   "metadata": {},
   "outputs": [],
   "source": [
    "pred = m.run(xs)"
   ]
  },
  {
   "cell_type": "code",
   "execution_count": 59,
   "metadata": {},
   "outputs": [
    {
     "data": {
      "text/plain": [
       "[<matplotlib.lines.Line2D at 0x7fad9771df90>]"
      ]
     },
     "execution_count": 59,
     "metadata": {},
     "output_type": "execute_result"
    },
    {
     "data": {
      "image/png": "[encoded data removed]",
      "text/plain": [
       "<Figure size 432x288 with 1 Axes>"
      ]
     },
     "metadata": {
      "needs_background": "light"
     },
     "output_type": "display_data"
    }
   ],
   "source": [
    "plt.xlabel('x')\n",
    "plt.ylabel('y')\n",
    "plt.plot(xs,ys,'o')\n",
    "plt.plot(xs, pred)"
   ]
  },
  {
   "cell_type": "code",
   "execution_count": 60,
   "metadata": {},
   "outputs": [
    {
     "data": {
      "text/plain": [
       "<tensorflow.python.keras.layers.core.Dense at 0x7fad95bc06d0>"
      ]
     },
     "execution_count": 60,
     "metadata": {},
     "output_type": "execute_result"
    }
   ],
   "source": [
    "m.out"
   ]
  },
  {
   "cell_type": "code",
   "execution_count": 61,
   "metadata": {},
   "outputs": [
    {
     "data": {
      "text/plain": [
       "[<tf.Variable 'dense_35/kernel:0' shape=(64, 1) dtype=float32, numpy=\n",
       " array([[-0.4752372 ],\n",
       "        [ 0.44487464],\n",
       "        [ 0.27201873],\n",
       "        [-0.24739458],\n",
       "        [ 0.43510368],\n",
       "        [ 0.48952007],\n",
       "        [ 0.00619285],\n",
       "        [-0.13460757],\n",
       "        [ 0.5355147 ],\n",
       "        [ 0.49398986],\n",
       "        [ 0.10588571],\n",
       "        [-0.01864033],\n",
       "        [ 0.5388805 ],\n",
       "        [-0.00737838],\n",
       "        [ 0.5366672 ],\n",
       "        [-0.3931493 ],\n",
       "        [-0.62950987],\n",
       "        [ 0.73207355],\n",
       "        [ 0.50860596],\n",
       "        [ 0.21945259],\n",
       "        [-0.5196515 ],\n",
       "        [ 0.53923607],\n",
       "        [-0.59954077],\n",
       "        [ 0.50006497],\n",
       "        [ 0.35046196],\n",
       "        [-0.57471997],\n",
       "        [ 0.4989731 ],\n",
       "        [-0.00586353],\n",
       "        [ 0.38437974],\n",
       "        [-0.31589237],\n",
       "        [-0.43109378],\n",
       "        [ 0.19149438],\n",
       "        [ 0.352139  ],\n",
       "        [ 0.49148372],\n",
       "        [-0.03508084],\n",
       "        [-0.3036763 ],\n",
       "        [-0.5988381 ],\n",
       "        [ 0.5801878 ],\n",
       "        [ 0.3498385 ],\n",
       "        [ 0.5016351 ],\n",
       "        [-0.39333647],\n",
       "        [ 0.5283375 ],\n",
       "        [-0.15215696],\n",
       "        [ 0.48625273],\n",
       "        [-0.48897135],\n",
       "        [ 0.44458845],\n",
       "        [ 0.42686164],\n",
       "        [ 0.40701026],\n",
       "        [-0.6467778 ],\n",
       "        [-0.02646135],\n",
       "        [-0.4823919 ],\n",
       "        [ 0.42100725],\n",
       "        [ 0.7803112 ],\n",
       "        [ 0.08408448],\n",
       "        [ 0.28493235],\n",
       "        [ 0.00419113],\n",
       "        [ 0.44138873],\n",
       "        [-1.9582801 ],\n",
       "        [ 0.21334308],\n",
       "        [-0.5757316 ],\n",
       "        [ 0.04834395],\n",
       "        [-0.55327123],\n",
       "        [-0.5885656 ],\n",
       "        [-0.37032786]], dtype=float32)>,\n",
       " <tf.Variable 'dense_35/bias:0' shape=(1,) dtype=float32, numpy=array([0.32088003], dtype=float32)>]"
      ]
     },
     "execution_count": 61,
     "metadata": {},
     "output_type": "execute_result"
    }
   ],
   "source": [
    "m.out.variables"
   ]
  },
  {
   "cell_type": "code",
   "execution_count": 62,
   "metadata": {},
   "outputs": [
    {
     "data": {
      "text/plain": [
       "<tf.Variable 'dense_35/kernel:0' shape=(64, 1) dtype=float32, numpy=\n",
       "array([[-0.4752372 ],\n",
       "       [ 0.44487464],\n",
       "       [ 0.27201873],\n",
       "       [-0.24739458],\n",
       "       [ 0.43510368],\n",
       "       [ 0.48952007],\n",
       "       [ 0.00619285],\n",
       "       [-0.13460757],\n",
       "       [ 0.5355147 ],\n",
       "       [ 0.49398986],\n",
       "       [ 0.10588571],\n",
       "       [-0.01864033],\n",
       "       [ 0.5388805 ],\n",
       "       [-0.00737838],\n",
       "       [ 0.5366672 ],\n",
       "       [-0.3931493 ],\n",
       "       [-0.62950987],\n",
       "       [ 0.73207355],\n",
       "       [ 0.50860596],\n",
       "       [ 0.21945259],\n",
       "       [-0.5196515 ],\n",
       "       [ 0.53923607],\n",
       "       [-0.59954077],\n",
       "       [ 0.50006497],\n",
       "       [ 0.35046196],\n",
       "       [-0.57471997],\n",
       "       [ 0.4989731 ],\n",
       "       [-0.00586353],\n",
       "       [ 0.38437974],\n",
       "       [-0.31589237],\n",
       "       [-0.43109378],\n",
       "       [ 0.19149438],\n",
       "       [ 0.352139  ],\n",
       "       [ 0.49148372],\n",
       "       [-0.03508084],\n",
       "       [-0.3036763 ],\n",
       "       [-0.5988381 ],\n",
       "       [ 0.5801878 ],\n",
       "       [ 0.3498385 ],\n",
       "       [ 0.5016351 ],\n",
       "       [-0.39333647],\n",
       "       [ 0.5283375 ],\n",
       "       [-0.15215696],\n",
       "       [ 0.48625273],\n",
       "       [-0.48897135],\n",
       "       [ 0.44458845],\n",
       "       [ 0.42686164],\n",
       "       [ 0.40701026],\n",
       "       [-0.6467778 ],\n",
       "       [-0.02646135],\n",
       "       [-0.4823919 ],\n",
       "       [ 0.42100725],\n",
       "       [ 0.7803112 ],\n",
       "       [ 0.08408448],\n",
       "       [ 0.28493235],\n",
       "       [ 0.00419113],\n",
       "       [ 0.44138873],\n",
       "       [-1.9582801 ],\n",
       "       [ 0.21334308],\n",
       "       [-0.5757316 ],\n",
       "       [ 0.04834395],\n",
       "       [-0.55327123],\n",
       "       [-0.5885656 ],\n",
       "       [-0.37032786]], dtype=float32)>"
      ]
     },
     "execution_count": 62,
     "metadata": {},
     "output_type": "execute_result"
    }
   ],
   "source": [
    "m.out.variables[0]"
   ]
  },
  {
   "cell_type": "code",
   "execution_count": 63,
   "metadata": {},
   "outputs": [
    {
     "data": {
      "text/plain": [
       "<tf.Variable 'dense_35/bias:0' shape=(1,) dtype=float32, numpy=array([0.32088003], dtype=float32)>"
      ]
     },
     "execution_count": 63,
     "metadata": {},
     "output_type": "execute_result"
    }
   ],
   "source": [
    "m.out.variables[1]"
   ]
  },
  {
   "cell_type": "code",
   "execution_count": null,
   "metadata": {},
   "outputs": [],
   "source": []
  }
 ],
 "metadata": {
  "kernelspec": {
   "display_name": "Python 3",
   "language": "python",
   "name": "python3"
  },
  "language_info": {
   "codemirror_mode": {
    "name": "ipython",
    "version": 3
   },
   "file_extension": ".py",
   "mimetype": "text/x-python",
   "name": "python",
   "nbconvert_exporter": "python",
   "pygments_lexer": "ipython3",
   "version": "3.7.7"
  }
 },
 "nbformat": 4,
 "nbformat_minor": 4
}
